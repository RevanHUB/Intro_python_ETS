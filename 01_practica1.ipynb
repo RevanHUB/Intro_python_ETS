{
  "nbformat": 4,
  "nbformat_minor": 0,
  "metadata": {
    "colab": {
      "provenance": [],
      "collapsed_sections": []
    },
    "kernelspec": {
      "name": "python3",
      "display_name": "Python 3"
    },
    "language_info": {
      "name": "python"
    }
  },
  "cells": [
    {
      "cell_type": "markdown",
      "source": [
        "Mi usuario GitHub es RevanHUB."
      ],
      "metadata": {
        "id": "wNHFLzYmhrF3"
      }
    },
    {
      "cell_type": "code",
      "source": [
        "palabra = \"aprendizaje\";\n",
        "print(\"La longitud de aprendizaje es: \")\n",
        "print(len(palabra));"
      ],
      "metadata": {
        "colab": {
          "base_uri": "https://localhost:8080/"
        },
        "id": "tG6T5ic_lhYQ",
        "outputId": "2c7eb0cd-6934-485e-9492-8b163a3ff75a"
      },
      "execution_count": 17,
      "outputs": [
        {
          "output_type": "stream",
          "name": "stdout",
          "text": [
            "La longitud de aprendizaje es: \n",
            "11\n"
          ]
        }
      ]
    },
    {
      "cell_type": "code",
      "source": [
        "a = 35 - 8;\n",
        "print(\"El valor de a es: \")\n",
        "print(a);"
      ],
      "metadata": {
        "colab": {
          "base_uri": "https://localhost:8080/"
        },
        "id": "YmVriNDUlOii",
        "outputId": "0d4b9f5b-e4a4-428d-db03-a4a35d0af80a"
      },
      "execution_count": 15,
      "outputs": [
        {
          "output_type": "stream",
          "name": "stdout",
          "text": [
            "El valor de a es: \n",
            "27\n"
          ]
        }
      ]
    },
    {
      "cell_type": "code",
      "source": [
        "print(2+2);"
      ],
      "metadata": {
        "colab": {
          "base_uri": "https://localhost:8080/"
        },
        "id": "5DVOpmYQlUgB",
        "outputId": "ac5ad71e-a221-445c-af4a-0e8a8fd11e4b"
      },
      "execution_count": 14,
      "outputs": [
        {
          "output_type": "stream",
          "name": "stdout",
          "text": [
            "4\n"
          ]
        }
      ]
    },
    {
      "cell_type": "code",
      "source": [
        "## command information:\n",
        "help(len);"
      ],
      "metadata": {
        "colab": {
          "base_uri": "https://localhost:8080/"
        },
        "id": "81x1yfTumWkW",
        "outputId": "026a3ad0-6bf4-473d-babf-3acf56ab9dad"
      },
      "execution_count": 16,
      "outputs": [
        {
          "output_type": "stream",
          "name": "stdout",
          "text": [
            "Help on built-in function len in module builtins:\n",
            "\n",
            "len(obj, /)\n",
            "    Return the number of items in a container.\n",
            "\n"
          ]
        }
      ]
    },
    {
      "cell_type": "code",
      "execution_count": 13,
      "metadata": {
        "colab": {
          "base_uri": "https://localhost:8080/"
        },
        "id": "TvS-WKL_es5Q",
        "outputId": "3126386b-6bd2-4dc8-c6a2-1e03e741e5fa"
      },
      "outputs": [
        {
          "output_type": "stream",
          "name": "stdout",
          "text": [
            "Hello World\n"
          ]
        }
      ],
      "source": [
        "\n",
        "\n",
        "\n",
        "print\n",
        "saludo = \"Hello World\"\n",
        "print(saludo);\n",
        "\n",
        "\n",
        "\n"
      ]
    }
  ]
}